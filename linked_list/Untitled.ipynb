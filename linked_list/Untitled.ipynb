{
 "cells": [
  {
   "cell_type": "code",
   "execution_count": 1,
   "metadata": {},
   "outputs": [
    {
     "data": {
      "text/plain": [
       "5"
      ]
     },
     "execution_count": 1,
     "metadata": {},
     "output_type": "execute_result"
    }
   ],
   "source": [
    "2+ 3"
   ]
  },
  {
   "cell_type": "code",
   "execution_count": 2,
   "metadata": {},
   "outputs": [
    {
     "data": {
      "text/plain": [
       "\"\\nnodeA = Node('a')\\nlist = LinkedList()\\n\\nlist.add_to_tail(nodeA) # TypeError: add_to_tail() missing 1 required positional argument: 'value'\\n\\nprint(list.tail.value)\\n\\n\""
      ]
     },
     "execution_count": 2,
     "metadata": {},
     "output_type": "execute_result"
    }
   ],
   "source": [
    "\"\"\"\n",
    "Class that represents a single linked\n",
    "list node that holds a single value\n",
    "and a reference to the next node in the list\n",
    "\"\"\"\n",
    "class Node:\n",
    "  def __init__(self, value=None, next_node=None):\n",
    "    self.value = value\n",
    "    self.next_node = next_node\n",
    "\n",
    "  def get_value(self):\n",
    "    return self.value\n",
    "\n",
    "  def get_next(self):\n",
    "    return self.next_node\n",
    "\n",
    "  def set_next(self, new_next):\n",
    "    self.next_node = new_next\n",
    "\n",
    "class LinkedList:\n",
    "  def __init__(self):\n",
    "    self.head = None\n",
    "    self.tail = None\n",
    "\n",
    "  def add_to_tail(self, value):\n",
    "    #append\n",
    "    #self.tail.next_node = Node(value)\n",
    "    if self.head == None:\n",
    "        self.head = Node(value)\n",
    "    else:\n",
    "        self.tail.set_next(Node(value))\n",
    "        \n",
    "    self.tail = Node(value)\n",
    "    \n",
    "  def remove_head(self):\n",
    "    #if head exsits\n",
    "    #remove it from linked list\n",
    "    #change self.head to the next one \"b\"\n",
    "    head = self.head.get_value() \n",
    "    if self.head != None:\n",
    "        self.head = self.head.get_next()\n",
    "    return head\n",
    "    \n",
    "  def contains(self, value):\n",
    "    # get the input value and\n",
    "    # check the input value with all the values of the linked list\n",
    "    # return true if found \n",
    "    #else false\n",
    "    if self.head.get_value() == value:\n",
    "        return true\n",
    "    else:\n",
    "        self.head = self.head.get_next()\n",
    "    \n",
    "\n",
    "  def get_max(self):\n",
    "    pass\n",
    "'''\n",
    "nodeA = Node('a')\n",
    "list = LinkedList()\n",
    "\n",
    "list.add_to_tail(nodeA) # TypeError: add_to_tail() missing 1 required positional argument: 'value'\n",
    "\n",
    "print(list.tail.value)\n",
    "\n",
    "'''"
   ]
  },
  {
   "cell_type": "code",
   "execution_count": null,
   "metadata": {},
   "outputs": [],
   "source": []
  },
  {
   "cell_type": "code",
   "execution_count": null,
   "metadata": {},
   "outputs": [],
   "source": []
  }
 ],
 "metadata": {
  "kernelspec": {
   "display_name": "Python 3",
   "language": "python",
   "name": "python3"
  },
  "language_info": {
   "codemirror_mode": {
    "name": "ipython",
    "version": 3
   },
   "file_extension": ".py",
   "mimetype": "text/x-python",
   "name": "python",
   "nbconvert_exporter": "python",
   "pygments_lexer": "ipython3",
   "version": "3.7.0"
  }
 },
 "nbformat": 4,
 "nbformat_minor": 2
}
