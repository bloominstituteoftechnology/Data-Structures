{
 "cells": [
  {
   "cell_type": "code",
   "execution_count": null,
   "metadata": {},
   "outputs": [],
   "source": [
    "class BinarySearchTree:\n",
    "    def __init__(self, value):\n",
    "        self.value = value\n",
    "        self.left = None\n",
    "        self.right = None\n",
    "    \n",
    "    def insert(self, value):\n",
    "        if self is not None and value is not None:\n",
    "            if value < self.value:\n",
    "                self.left = self.__init__(value)\n",
    "            else:\n",
    "                self.right = self.__init__(value)\n",
    "\n",
    "    def contains(self, target):\n",
    "        while self.value is None:  \n",
    "            if self is not None and target is not None:\n",
    "                pointer = self\n",
    "                if target < pointer.value:\n",
    "                    pointer = self.left\n",
    "                elif target > pointer.value:\n",
    "                    pointer = self.right\n",
    "                else:\n",
    "                    return True\n",
    "        return False\n",
    "    \n",
    "    def get_max(self):\n",
    "        while self.value is None:  \n",
    "            if self is not None:\n",
    "                pointer = self\n",
    "                if pointer.value < self.right.value\n",
    "                    pointer = self.right\n",
    "        "
   ]
  }
 ],
 "metadata": {
  "kernelspec": {
   "display_name": "Python 3",
   "language": "python",
   "name": "python3"
  },
  "language_info": {
   "codemirror_mode": {
    "name": "ipython",
    "version": 3
   },
   "file_extension": ".py",
   "mimetype": "text/x-python",
   "name": "python",
   "nbconvert_exporter": "python",
   "pygments_lexer": "ipython3",
   "version": "3.7.0"
  }
 },
 "nbformat": 4,
 "nbformat_minor": 2
}
